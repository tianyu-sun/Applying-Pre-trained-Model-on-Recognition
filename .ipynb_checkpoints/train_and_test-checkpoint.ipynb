{
 "cells": [
  {
   "cell_type": "code",
   "execution_count": 1,
   "metadata": {
    "collapsed": false,
    "scrolled": true
   },
   "outputs": [
    {
     "name": "stdout",
     "output_type": "stream",
     "text": [
      "INFO:tensorflow:Restoring parameters from inception_v1.ckpt\n",
      "INFO:tensorflow:Restoring parameters from ./model/model.ckpt\n",
      "Accuracy:\n",
      "27.0\n"
     ]
    }
   ],
   "source": [
    "%run test.py"
   ]
  },
  {
   "cell_type": "code",
   "execution_count": 1,
   "metadata": {
    "collapsed": false,
    "scrolled": true
   },
   "outputs": [
    {
     "name": "stdout",
     "output_type": "stream",
     "text": [
      "INFO:tensorflow:Restoring parameters from inception_v1.ckpt\n",
      "Model saved in file: ./model/model.ckpt\n",
      "Model saved in file: ./model/model.ckpt\n",
      "Model saved in file: ./model/model.ckpt\n",
      "Model saved in file: ./model/model.ckpt\n",
      "Model saved in file: ./model/model.ckpt\n",
      "Model saved in file: ./model/model.ckpt\n",
      "Model saved in file: ./model/model.ckpt\n",
      "Model saved in file: ./model/model.ckpt\n",
      "Model saved in file: ./model/model.ckpt\n",
      "Model saved in file: ./model/model.ckpt\n",
      "Model saved in file: ./model/model.ckpt\n",
      "Model saved in file: ./model/model.ckpt\n",
      "Model saved in file: ./model/model.ckpt\n",
      "Model saved in file: ./model/model.ckpt\n",
      "Model saved in file: ./model/model.ckpt\n",
      "Model saved in file: ./model/model.ckpt\n",
      "Model saved in file: ./model/model.ckpt\n",
      "Model saved in file: ./model/model.ckpt\n",
      "Model saved in file: ./model/model.ckpt\n",
      "Model saved in file: ./model/model.ckpt\n",
      "Model saved in file: ./model/model.ckpt\n",
      "Model saved in file: ./model/model.ckpt\n",
      "Model saved in file: ./model/model.ckpt\n",
      "Model saved in file: ./model/model.ckpt\n",
      "Model saved in file: ./model/model.ckpt\n",
      "Model saved in file: ./model/model.ckpt\n",
      "Model saved in file: ./model/model.ckpt\n",
      "Model saved in file: ./model/model.ckpt\n",
      "Model saved in file: ./model/model.ckpt\n",
      "Model saved in file: ./model/model.ckpt\n",
      "Model saved in file: ./model/model.ckpt\n",
      "Model saved in file: ./model/model.ckpt\n",
      "Model saved in file: ./model/model.ckpt\n",
      "Model saved in file: ./model/model.ckpt\n",
      "Model saved in file: ./model/model.ckpt\n",
      "Model saved in file: ./model/model.ckpt\n",
      "Model saved in file: ./model/model.ckpt\n",
      "Model saved in file: ./model/model.ckpt\n",
      "Model saved in file: ./model/model.ckpt\n",
      "Model saved in file: ./model/model.ckpt\n",
      "Model saved in file: ./model/model.ckpt\n",
      "Model saved in file: ./model/model.ckpt\n",
      "Model saved in file: ./model/model.ckpt\n",
      "Model saved in file: ./model/model.ckpt\n",
      "Model saved in file: ./model/model.ckpt\n",
      "Model saved in file: ./model/model.ckpt\n",
      "Model saved in file: ./model/model.ckpt\n",
      "Model saved in file: ./model/model.ckpt\n",
      "Model saved in file: ./model/model.ckpt\n",
      "Model saved in file: ./model/model.ckpt\n",
      "Model saved in file: ./model/model.ckpt\n",
      "Model saved in file: ./model/model.ckpt\n",
      "Model saved in file: ./model/model.ckpt\n",
      "Model saved in file: ./model/model.ckpt\n",
      "Model saved in file: ./model/model.ckpt\n",
      "Model saved in file: ./model/model.ckpt\n",
      "Model saved in file: ./model/model.ckpt\n",
      "Model saved in file: ./model/model.ckpt\n",
      "Model saved in file: ./model/model.ckpt\n",
      "Model saved in file: ./model/model.ckpt\n",
      "Model saved in file: ./model/model.ckpt\n",
      "Model saved in file: ./model/model.ckpt\n",
      "Model saved in file: ./model/model.ckpt\n",
      "Model saved in file: ./model/model.ckpt\n",
      "Model saved in file: ./model/model.ckpt\n",
      "Model saved in file: ./model/model.ckpt\n",
      "Model saved in file: ./model/model.ckpt\n",
      "Model saved in file: ./model/model.ckpt\n",
      "Model saved in file: ./model/model.ckpt\n",
      "Model saved in file: ./model/model.ckpt\n",
      "Model saved in file: ./model/model.ckpt\n",
      "Model saved in file: ./model/model.ckpt\n",
      "Model saved in file: ./model/model.ckpt\n",
      "Model saved in file: ./model/model.ckpt\n",
      "Model saved in file: ./model/model.ckpt\n",
      "Model saved in file: ./model/model.ckpt\n",
      "Model saved in file: ./model/model.ckpt\n",
      "Model saved in file: ./model/model.ckpt\n",
      "Model saved in file: ./model/model.ckpt\n",
      "Model saved in file: ./model/model.ckpt\n",
      "Model saved in file: ./model/model.ckpt\n",
      "Model saved in file: ./model/model.ckpt\n",
      "Model saved in file: ./model/model.ckpt\n",
      "Model saved in file: ./model/model.ckpt\n",
      "Model saved in file: ./model/model.ckpt\n",
      "Model saved in file: ./model/model.ckpt\n",
      "Model saved in file: ./model/model.ckpt\n",
      "Model saved in file: ./model/model.ckpt\n"
     ]
    }
   ],
   "source": [
    "%run inception_v1_trianing.py"
   ]
  }
 ],
 "metadata": {
  "anaconda-cloud": {},
  "kernelspec": {
   "display_name": "Python [conda root]",
   "language": "python",
   "name": "conda-root-py"
  },
  "language_info": {
   "codemirror_mode": {
    "name": "ipython",
    "version": 2
   },
   "file_extension": ".py",
   "mimetype": "text/x-python",
   "name": "python",
   "nbconvert_exporter": "python",
   "pygments_lexer": "ipython2",
   "version": "2.7.13"
  }
 },
 "nbformat": 4,
 "nbformat_minor": 1
}
